{
 "cells": [
  {
   "cell_type": "code",
   "execution_count": 1,
   "id": "2295afc8-85ae-495b-bd77-61ddf1358345",
   "metadata": {},
   "outputs": [
    {
     "name": "stdout",
     "output_type": "stream",
     "text": [
      "Collecting nltk\n",
      "  Downloading nltk-3.8.1-py3-none-any.whl.metadata (2.8 kB)\n",
      "Requirement already satisfied: click in c:\\users\\user\\miniconda3\\lib\\site-packages (from nltk) (8.1.7)\n",
      "Requirement already satisfied: joblib in c:\\users\\user\\miniconda3\\lib\\site-packages (from nltk) (1.4.2)\n",
      "Collecting regex>=2021.8.3 (from nltk)\n",
      "  Downloading regex-2024.5.15-cp312-cp312-win_amd64.whl.metadata (41 kB)\n",
      "     ---------------------------------------- 0.0/42.0 kB ? eta -:--:--\n",
      "     --------- ------------------------------ 10.2/42.0 kB ? eta -:--:--\n",
      "     --------------------------- ---------- 30.7/42.0 kB 330.3 kB/s eta 0:00:01\n",
      "     -------------------------------------- 42.0/42.0 kB 337.6 kB/s eta 0:00:00\n",
      "Requirement already satisfied: tqdm in c:\\users\\user\\miniconda3\\lib\\site-packages (from nltk) (4.65.0)\n",
      "Requirement already satisfied: colorama in c:\\users\\user\\miniconda3\\lib\\site-packages (from click->nltk) (0.4.6)\n",
      "Downloading nltk-3.8.1-py3-none-any.whl (1.5 MB)\n",
      "   ---------------------------------------- 0.0/1.5 MB ? eta -:--:--\n",
      "    --------------------------------------- 0.0/1.5 MB 1.4 MB/s eta 0:00:02\n",
      "   -- ------------------------------------- 0.1/1.5 MB 1.3 MB/s eta 0:00:02\n",
      "   ---- ----------------------------------- 0.2/1.5 MB 1.3 MB/s eta 0:00:02\n",
      "   -------- ------------------------------- 0.3/1.5 MB 1.8 MB/s eta 0:00:01\n",
      "   ------------ --------------------------- 0.5/1.5 MB 2.2 MB/s eta 0:00:01\n",
      "   ----------------- ---------------------- 0.7/1.5 MB 2.5 MB/s eta 0:00:01\n",
      "   ---------------------- ----------------- 0.9/1.5 MB 2.7 MB/s eta 0:00:01\n",
      "   --------------------------- ------------ 1.0/1.5 MB 2.9 MB/s eta 0:00:01\n",
      "   -------------------------------- ------- 1.2/1.5 MB 3.0 MB/s eta 0:00:01\n",
      "   ------------------------------------ --- 1.4/1.5 MB 3.1 MB/s eta 0:00:01\n",
      "   ---------------------------------------  1.5/1.5 MB 3.1 MB/s eta 0:00:01\n",
      "   ---------------------------------------- 1.5/1.5 MB 3.0 MB/s eta 0:00:00\n",
      "Downloading regex-2024.5.15-cp312-cp312-win_amd64.whl (268 kB)\n",
      "   ---------------------------------------- 0.0/268.5 kB ? eta -:--:--\n",
      "   ---------------------------------------  266.2/268.5 kB 5.4 MB/s eta 0:00:01\n",
      "   ---------------------------------------- 268.5/268.5 kB 5.5 MB/s eta 0:00:00\n",
      "Installing collected packages: regex, nltk\n",
      "Successfully installed nltk-3.8.1 regex-2024.5.15\n"
     ]
    }
   ],
   "source": [
    "!pip install nltk"
   ]
  },
  {
   "cell_type": "code",
   "execution_count": 2,
   "id": "5270ae16-b5d2-415b-8cbc-24a8701c70d3",
   "metadata": {},
   "outputs": [],
   "source": [
    "import nltk"
   ]
  },
  {
   "cell_type": "code",
   "execution_count": 6,
   "id": "d03b20eb-8af0-4f50-ab4a-75d6da8a9df2",
   "metadata": {},
   "outputs": [],
   "source": [
    "txt = \"Hello Vidhi. How are you?\""
   ]
  },
  {
   "cell_type": "code",
   "execution_count": 7,
   "id": "9d23e6ac-d3af-4b0e-b904-b1169e8bd2bb",
   "metadata": {},
   "outputs": [
    {
     "data": {
      "text/plain": [
       "'Hello Vidhi. How are you?'"
      ]
     },
     "execution_count": 7,
     "metadata": {},
     "output_type": "execute_result"
    }
   ],
   "source": [
    "txt"
   ]
  },
  {
   "cell_type": "code",
   "execution_count": 8,
   "id": "70478a45-8f41-4ae9-9070-3b08cdcc55c1",
   "metadata": {},
   "outputs": [
    {
     "data": {
      "text/plain": [
       "['Hello Vidhi', ' How are you?']"
      ]
     },
     "execution_count": 8,
     "metadata": {},
     "output_type": "execute_result"
    }
   ],
   "source": [
    "txt.split('.')"
   ]
  },
  {
   "cell_type": "code",
   "execution_count": 9,
   "id": "4d700f0e-0d9d-4387-b9d6-3a9f7cdece69",
   "metadata": {},
   "outputs": [
    {
     "data": {
      "text/plain": [
       "['Hello', 'Vidhi.', 'How', 'are', 'you?']"
      ]
     },
     "execution_count": 9,
     "metadata": {},
     "output_type": "execute_result"
    }
   ],
   "source": [
    "txt.split(' ')"
   ]
  },
  {
   "cell_type": "code",
   "execution_count": 10,
   "id": "9e795a9c-c313-47a1-81a7-fd34fc878aa7",
   "metadata": {},
   "outputs": [],
   "source": [
    "from nltk.tokenize import word_tokenize, sent_tokenize"
   ]
  },
  {
   "cell_type": "code",
   "execution_count": 13,
   "id": "a0ad30d3-5add-44ea-b3e2-0e5d0802da89",
   "metadata": {},
   "outputs": [
    {
     "name": "stderr",
     "output_type": "stream",
     "text": [
      "[nltk_data] Downloading package punkt to\n",
      "[nltk_data]     C:\\Users\\User\\AppData\\Roaming\\nltk_data...\n",
      "[nltk_data]   Unzipping tokenizers\\punkt.zip.\n"
     ]
    },
    {
     "data": {
      "text/plain": [
       "True"
      ]
     },
     "execution_count": 13,
     "metadata": {},
     "output_type": "execute_result"
    }
   ],
   "source": [
    "nltk.download('punkt')"
   ]
  },
  {
   "cell_type": "markdown",
   "id": "b13c0a06-3426-40c8-887e-8818b919421f",
   "metadata": {},
   "source": [
    "### used to tokenize words"
   ]
  },
  {
   "cell_type": "code",
   "execution_count": 14,
   "id": "b35992f1-3022-4137-a9fb-d298785793ce",
   "metadata": {},
   "outputs": [
    {
     "data": {
      "text/plain": [
       "['Hello', 'Vidhi', '.', 'How', 'are', 'you', '?']"
      ]
     },
     "execution_count": 14,
     "metadata": {},
     "output_type": "execute_result"
    }
   ],
   "source": [
    "word_tokenize(txt)"
   ]
  },
  {
   "cell_type": "markdown",
   "id": "eee50a26-737d-4c08-a4a2-50acbb3905cd",
   "metadata": {},
   "source": [
    "### used to tokenize sentences"
   ]
  },
  {
   "cell_type": "code",
   "execution_count": 15,
   "id": "5d730f2e-96db-45d4-8493-f5ef9618f5d6",
   "metadata": {},
   "outputs": [
    {
     "data": {
      "text/plain": [
       "['Hello Vidhi.', 'How are you?']"
      ]
     },
     "execution_count": 15,
     "metadata": {},
     "output_type": "execute_result"
    }
   ],
   "source": [
    "sent_tokenize(txt)"
   ]
  }
 ],
 "metadata": {
  "kernelspec": {
   "display_name": "Python 3 (ipykernel)",
   "language": "python",
   "name": "python3"
  },
  "language_info": {
   "codemirror_mode": {
    "name": "ipython",
    "version": 3
   },
   "file_extension": ".py",
   "mimetype": "text/x-python",
   "name": "python",
   "nbconvert_exporter": "python",
   "pygments_lexer": "ipython3",
   "version": "3.12.2"
  }
 },
 "nbformat": 4,
 "nbformat_minor": 5
}
