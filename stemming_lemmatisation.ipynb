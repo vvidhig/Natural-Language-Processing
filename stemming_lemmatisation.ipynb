{
 "cells": [
  {
   "cell_type": "code",
   "execution_count": 1,
   "id": "075a0b6f-1de8-4f60-8991-88d7efcdbe9e",
   "metadata": {},
   "outputs": [
    {
     "name": "stderr",
     "output_type": "stream",
     "text": [
      "[nltk_data] Downloading package wordnet to\n",
      "[nltk_data]     C:\\Users\\User\\AppData\\Roaming\\nltk_data...\n",
      "[nltk_data] Downloading package omw-1.4 to\n",
      "[nltk_data]     C:\\Users\\User\\AppData\\Roaming\\nltk_data...\n"
     ]
    },
    {
     "data": {
      "text/plain": [
       "True"
      ]
     },
     "execution_count": 1,
     "metadata": {},
     "output_type": "execute_result"
    }
   ],
   "source": [
    "import nltk\n",
    "nltk.download('wordnet')\n",
    "nltk.download('omw-1.4')"
   ]
  },
  {
   "cell_type": "code",
   "execution_count": 2,
   "id": "95713043-e338-4a82-89ff-5dd473d65fce",
   "metadata": {},
   "outputs": [],
   "source": [
    "from nltk.stem import WordNetLemmatizer, PorterStemmer"
   ]
  },
  {
   "cell_type": "code",
   "execution_count": 3,
   "id": "9278054a-ba50-4d7e-92bf-93727ea03542",
   "metadata": {},
   "outputs": [],
   "source": [
    "stem = PorterStemmer()\n",
    "lam = WordNetLemmatizer()"
   ]
  },
  {
   "cell_type": "markdown",
   "id": "baeb89d2-a450-4752-a014-e9b0f8fc83d1",
   "metadata": {},
   "source": [
    "#### in the Lemmatization, the root words always make sense\n",
    "#### in Stemming, the root word might or might not make sense"
   ]
  },
  {
   "cell_type": "markdown",
   "id": "b2869025-6c5e-417a-a8d2-c839d3855f23",
   "metadata": {},
   "source": [
    "## Lemmatization"
   ]
  },
  {
   "cell_type": "code",
   "execution_count": 4,
   "id": "bec2fbbf-27bf-4ff7-a5f6-d3dee3d7d74a",
   "metadata": {},
   "outputs": [
    {
     "name": "stdout",
     "output_type": "stream",
     "text": [
      "change\n",
      "change\n",
      "changed\n"
     ]
    }
   ],
   "source": [
    "print(lam.lemmatize('change'))\n",
    "print(lam.lemmatize('changes'))\n",
    "print(lam.lemmatize('changed'))"
   ]
  },
  {
   "cell_type": "markdown",
   "id": "827c3ee2-6d71-434b-b31f-ee8a6357d583",
   "metadata": {},
   "source": [
    "## Stemming"
   ]
  },
  {
   "cell_type": "code",
   "execution_count": 5,
   "id": "d9ca6847-f39b-4e3e-be5f-4db358b002b8",
   "metadata": {},
   "outputs": [
    {
     "name": "stdout",
     "output_type": "stream",
     "text": [
      "chang\n",
      "chang\n",
      "chang\n"
     ]
    }
   ],
   "source": [
    "print(stem.stem('change'))\n",
    "print(stem.stem('changes'))\n",
    "print(stem.stem('changed'))"
   ]
  },
  {
   "cell_type": "code",
   "execution_count": null,
   "id": "5f26837a-5ab6-47b1-8392-34c8435d6e70",
   "metadata": {},
   "outputs": [],
   "source": []
  }
 ],
 "metadata": {
  "kernelspec": {
   "display_name": "Python 3 (ipykernel)",
   "language": "python",
   "name": "python3"
  },
  "language_info": {
   "codemirror_mode": {
    "name": "ipython",
    "version": 3
   },
   "file_extension": ".py",
   "mimetype": "text/x-python",
   "name": "python",
   "nbconvert_exporter": "python",
   "pygments_lexer": "ipython3",
   "version": "3.12.2"
  }
 },
 "nbformat": 4,
 "nbformat_minor": 5
}
