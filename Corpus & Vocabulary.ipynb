{
 "cells": [
  {
   "cell_type": "code",
   "execution_count": 1,
   "id": "2f3a88d5-4007-4f18-a42e-e47955a394f1",
   "metadata": {},
   "outputs": [],
   "source": [
    "corpus = \"India is considered a united tourism country in the world and in Asia. In 2024, India ranked 39th on the World Economic Forum's Travel & Tourism Development Index (TTDI), a significant improvement from its 54th place ranking in 2021. This rise is a testament to India's resilience and potential in the global tourism industry, and its recovery from the pandemic's impact.\""
   ]
  },
  {
   "cell_type": "code",
   "execution_count": 2,
   "id": "80784aa9-734e-4a3d-b713-9959858d6b78",
   "metadata": {},
   "outputs": [
    {
     "data": {
      "text/plain": [
       "\"India is considered a united tourism country in the world and in Asia. In 2024, India ranked 39th on the World Economic Forum's Travel & Tourism Development Index (TTDI), a significant improvement from its 54th place ranking in 2021. This rise is a testament to India's resilience and potential in the global tourism industry, and its recovery from the pandemic's impact.\""
      ]
     },
     "execution_count": 2,
     "metadata": {},
     "output_type": "execute_result"
    }
   ],
   "source": [
    "corpus"
   ]
  },
  {
   "cell_type": "code",
   "execution_count": 10,
   "id": "1089cbb2-06c1-4021-9b2a-509a6c8ae1ec",
   "metadata": {},
   "outputs": [
    {
     "name": "stderr",
     "output_type": "stream",
     "text": [
      "[nltk_data] Downloading package stopwords to\n",
      "[nltk_data]     C:\\Users\\User\\AppData\\Roaming\\nltk_data...\n",
      "[nltk_data]   Package stopwords is already up-to-date!\n"
     ]
    }
   ],
   "source": [
    "import nltk\n",
    "from nltk.tokenize import word_tokenize\n",
    "nltk.download(\"stopwords\")\n",
    "from nltk.corpus import stopwords"
   ]
  },
  {
   "cell_type": "code",
   "execution_count": 5,
   "id": "61a4b66b-c1d9-411e-84a7-c85d3a19ee07",
   "metadata": {},
   "outputs": [
    {
     "data": {
      "text/plain": [
       "['India',\n",
       " 'is',\n",
       " 'considered',\n",
       " 'a',\n",
       " 'united',\n",
       " 'tourism',\n",
       " 'country',\n",
       " 'in',\n",
       " 'the',\n",
       " 'world',\n",
       " 'and',\n",
       " 'in',\n",
       " 'Asia',\n",
       " '.',\n",
       " 'In',\n",
       " '2024',\n",
       " ',',\n",
       " 'India',\n",
       " 'ranked',\n",
       " '39th',\n",
       " 'on',\n",
       " 'the',\n",
       " 'World',\n",
       " 'Economic',\n",
       " 'Forum',\n",
       " \"'s\",\n",
       " 'Travel',\n",
       " '&',\n",
       " 'Tourism',\n",
       " 'Development',\n",
       " 'Index',\n",
       " '(',\n",
       " 'TTDI',\n",
       " ')',\n",
       " ',',\n",
       " 'a',\n",
       " 'significant',\n",
       " 'improvement',\n",
       " 'from',\n",
       " 'its',\n",
       " '54th',\n",
       " 'place',\n",
       " 'ranking',\n",
       " 'in',\n",
       " '2021',\n",
       " '.',\n",
       " 'This',\n",
       " 'rise',\n",
       " 'is',\n",
       " 'a',\n",
       " 'testament',\n",
       " 'to',\n",
       " 'India',\n",
       " \"'s\",\n",
       " 'resilience',\n",
       " 'and',\n",
       " 'potential',\n",
       " 'in',\n",
       " 'the',\n",
       " 'global',\n",
       " 'tourism',\n",
       " 'industry',\n",
       " ',',\n",
       " 'and',\n",
       " 'its',\n",
       " 'recovery',\n",
       " 'from',\n",
       " 'the',\n",
       " 'pandemic',\n",
       " \"'s\",\n",
       " 'impact',\n",
       " '.']"
      ]
     },
     "execution_count": 5,
     "metadata": {},
     "output_type": "execute_result"
    }
   ],
   "source": [
    "word_tokenize(corpus)"
   ]
  },
  {
   "cell_type": "code",
   "execution_count": 15,
   "id": "3530b59b-132d-4a63-8e28-785848220cbf",
   "metadata": {},
   "outputs": [],
   "source": [
    "words = []\n",
    "for word in word_tokenize(corpus):\n",
    "    if(word.lower() not in stopwords.words(\"english\")) and len(word)>1:\n",
    "        words.append(word)"
   ]
  },
  {
   "cell_type": "code",
   "execution_count": 16,
   "id": "e51a2405-cbc4-4382-8e81-854249340322",
   "metadata": {},
   "outputs": [
    {
     "data": {
      "text/plain": [
       "['India',\n",
       " 'considered',\n",
       " 'united',\n",
       " 'tourism',\n",
       " 'country',\n",
       " 'world',\n",
       " 'Asia',\n",
       " '2024',\n",
       " 'India',\n",
       " 'ranked',\n",
       " '39th',\n",
       " 'World',\n",
       " 'Economic',\n",
       " 'Forum',\n",
       " \"'s\",\n",
       " 'Travel',\n",
       " 'Tourism',\n",
       " 'Development',\n",
       " 'Index',\n",
       " 'TTDI',\n",
       " 'significant',\n",
       " 'improvement',\n",
       " '54th',\n",
       " 'place',\n",
       " 'ranking',\n",
       " '2021',\n",
       " 'rise',\n",
       " 'testament',\n",
       " 'India',\n",
       " \"'s\",\n",
       " 'resilience',\n",
       " 'potential',\n",
       " 'global',\n",
       " 'tourism',\n",
       " 'industry',\n",
       " 'recovery',\n",
       " 'pandemic',\n",
       " \"'s\",\n",
       " 'impact']"
      ]
     },
     "execution_count": 16,
     "metadata": {},
     "output_type": "execute_result"
    }
   ],
   "source": [
    "words"
   ]
  },
  {
   "cell_type": "code",
   "execution_count": 19,
   "id": "3035c4db-8320-4239-8701-43d6c942b297",
   "metadata": {},
   "outputs": [],
   "source": [
    "word_unique = list(set(words))"
   ]
  },
  {
   "cell_type": "code",
   "execution_count": 20,
   "id": "836cfb56-9f3c-4ac4-a55a-be958d24f162",
   "metadata": {},
   "outputs": [
    {
     "data": {
      "text/plain": [
       "['potential',\n",
       " 'India',\n",
       " 'place',\n",
       " 'TTDI',\n",
       " 'recovery',\n",
       " 'significant',\n",
       " 'Tourism',\n",
       " 'resilience',\n",
       " 'tourism',\n",
       " 'country',\n",
       " 'Index',\n",
       " 'impact',\n",
       " '2021',\n",
       " 'testament',\n",
       " 'Forum',\n",
       " 'united',\n",
       " 'world',\n",
       " \"'s\",\n",
       " 'Development',\n",
       " '2024',\n",
       " 'rise',\n",
       " 'pandemic',\n",
       " '54th',\n",
       " 'Asia',\n",
       " 'Economic',\n",
       " 'improvement',\n",
       " 'considered',\n",
       " 'World',\n",
       " 'ranked',\n",
       " 'Travel',\n",
       " '39th',\n",
       " 'industry',\n",
       " 'global',\n",
       " 'ranking']"
      ]
     },
     "execution_count": 20,
     "metadata": {},
     "output_type": "execute_result"
    }
   ],
   "source": [
    "word_unique"
   ]
  },
  {
   "cell_type": "code",
   "execution_count": null,
   "id": "7ff971ba-68cb-421b-83e5-c0a5f604f482",
   "metadata": {},
   "outputs": [],
   "source": []
  }
 ],
 "metadata": {
  "kernelspec": {
   "display_name": "Python 3 (ipykernel)",
   "language": "python",
   "name": "python3"
  },
  "language_info": {
   "codemirror_mode": {
    "name": "ipython",
    "version": 3
   },
   "file_extension": ".py",
   "mimetype": "text/x-python",
   "name": "python",
   "nbconvert_exporter": "python",
   "pygments_lexer": "ipython3",
   "version": "3.12.2"
  }
 },
 "nbformat": 4,
 "nbformat_minor": 5
}
