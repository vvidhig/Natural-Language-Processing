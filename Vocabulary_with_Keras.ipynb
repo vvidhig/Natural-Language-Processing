{
 "cells": [
  {
   "cell_type": "code",
   "execution_count": 1,
   "id": "1133feae-e11b-4e04-a351-d74ea1c5c3ad",
   "metadata": {},
   "outputs": [],
   "source": [
    "import tensorflow as tf"
   ]
  },
  {
   "cell_type": "code",
   "execution_count": 2,
   "id": "67e73af5-be14-4b21-afa4-827059207056",
   "metadata": {},
   "outputs": [],
   "source": [
    "from tensorflow.keras.preprocessing.text import Tokenizer"
   ]
  },
  {
   "cell_type": "code",
   "execution_count": 3,
   "id": "d6b3e25a-4f41-4db6-93d9-eb4c69a7c4c0",
   "metadata": {},
   "outputs": [],
   "source": [
    "tok = Tokenizer()"
   ]
  },
  {
   "cell_type": "code",
   "execution_count": 4,
   "id": "b55da3c0-6176-45fc-a397-5b9817e066a1",
   "metadata": {},
   "outputs": [],
   "source": [
    "corpus = [\"coffee is hot\", \"water is cold\"]"
   ]
  },
  {
   "cell_type": "code",
   "execution_count": 5,
   "id": "b40984ef-c097-4d27-93eb-c56cca58808f",
   "metadata": {},
   "outputs": [],
   "source": [
    "tok.fit_on_texts(corpus)"
   ]
  },
  {
   "cell_type": "code",
   "execution_count": 6,
   "id": "80075b9d-e0a5-45fa-be25-a696c67a779f",
   "metadata": {},
   "outputs": [
    {
     "data": {
      "text/plain": [
       "<keras.src.legacy.preprocessing.text.Tokenizer at 0x1c704011f70>"
      ]
     },
     "execution_count": 6,
     "metadata": {},
     "output_type": "execute_result"
    }
   ],
   "source": [
    "tok"
   ]
  },
  {
   "cell_type": "code",
   "execution_count": 7,
   "id": "eae56695-ed98-4b09-af5c-af94824a0957",
   "metadata": {},
   "outputs": [
    {
     "data": {
      "text/plain": [
       "{'is': 1, 'coffee': 2, 'hot': 3, 'water': 4, 'cold': 5}"
      ]
     },
     "execution_count": 7,
     "metadata": {},
     "output_type": "execute_result"
    }
   ],
   "source": [
    "tok.word_index"
   ]
  },
  {
   "cell_type": "code",
   "execution_count": 9,
   "id": "021956ac-4051-46f7-9efd-5f954661dd25",
   "metadata": {},
   "outputs": [
    {
     "data": {
      "text/plain": [
       "[[2, 1, 3], [4, 1, 5]]"
      ]
     },
     "execution_count": 9,
     "metadata": {},
     "output_type": "execute_result"
    }
   ],
   "source": [
    "tok.texts_to_sequences(corpus)"
   ]
  },
  {
   "cell_type": "code",
   "execution_count": 11,
   "id": "a32e90fe-c8b8-4d91-8efd-05a2ac438776",
   "metadata": {},
   "outputs": [],
   "source": [
    "tok = Tokenizer(oov_token=\"black\") "
   ]
  },
  {
   "cell_type": "code",
   "execution_count": 12,
   "id": "fd6e1eb5-a46f-4e7e-a204-35d7d039c296",
   "metadata": {},
   "outputs": [],
   "source": [
    "tok.fit_on_texts(corpus)"
   ]
  },
  {
   "cell_type": "code",
   "execution_count": 13,
   "id": "e0d4b44a-7f9c-499c-bf9f-fcf94e036edb",
   "metadata": {},
   "outputs": [
    {
     "data": {
      "text/plain": [
       "{'black': 1, 'is': 2, 'coffee': 3, 'hot': 4, 'water': 5, 'cold': 6}"
      ]
     },
     "execution_count": 13,
     "metadata": {},
     "output_type": "execute_result"
    }
   ],
   "source": [
    "tok.word_index"
   ]
  },
  {
   "cell_type": "code",
   "execution_count": 14,
   "id": "06fbddc3-34dc-416a-a515-e66526d18b58",
   "metadata": {},
   "outputs": [
    {
     "data": {
      "text/plain": [
       "[[3, 2, 4], [5, 2, 6]]"
      ]
     },
     "execution_count": 14,
     "metadata": {},
     "output_type": "execute_result"
    }
   ],
   "source": [
    "tok.texts_to_sequences(corpus)"
   ]
  },
  {
   "cell_type": "code",
   "execution_count": 15,
   "id": "dd19e547-2408-4adf-82ea-c0f7ea960b14",
   "metadata": {},
   "outputs": [],
   "source": [
    "tok = Tokenizer(num_words=6) "
   ]
  },
  {
   "cell_type": "code",
   "execution_count": 16,
   "id": "554d6f9f-9929-4b06-bfb8-09067bc6e0b2",
   "metadata": {},
   "outputs": [],
   "source": [
    "corpus = [\"black coffee is hot\", \"water is cold\"]"
   ]
  },
  {
   "cell_type": "code",
   "execution_count": 18,
   "id": "439ef791-526b-4d7d-8178-eab120d59dfb",
   "metadata": {},
   "outputs": [],
   "source": [
    "tok.fit_on_texts(corpus)"
   ]
  },
  {
   "cell_type": "code",
   "execution_count": 19,
   "id": "41c0937d-cbb8-4a01-a2d7-7d1cce3887c9",
   "metadata": {},
   "outputs": [
    {
     "data": {
      "text/plain": [
       "{'is': 1, 'black': 2, 'coffee': 3, 'hot': 4, 'water': 5, 'cold': 6}"
      ]
     },
     "execution_count": 19,
     "metadata": {},
     "output_type": "execute_result"
    }
   ],
   "source": [
    "tok.word_index"
   ]
  },
  {
   "cell_type": "code",
   "execution_count": 20,
   "id": "e44fca68-ff3a-4d2a-8f54-2542324c1c78",
   "metadata": {},
   "outputs": [
    {
     "data": {
      "text/plain": [
       "[[2, 3, 1, 4], [5, 1]]"
      ]
     },
     "execution_count": 20,
     "metadata": {},
     "output_type": "execute_result"
    }
   ],
   "source": [
    "tok.texts_to_sequences(corpus)"
   ]
  }
 ],
 "metadata": {
  "kernelspec": {
   "display_name": "Python 3 (ipykernel)",
   "language": "python",
   "name": "python3"
  },
  "language_info": {
   "codemirror_mode": {
    "name": "ipython",
    "version": 3
   },
   "file_extension": ".py",
   "mimetype": "text/x-python",
   "name": "python",
   "nbconvert_exporter": "python",
   "pygments_lexer": "ipython3",
   "version": "3.12.2"
  }
 },
 "nbformat": 4,
 "nbformat_minor": 5
}
